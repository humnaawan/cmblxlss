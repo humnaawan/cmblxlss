{
 "cells": [
  {
   "cell_type": "markdown",
   "metadata": {},
   "source": [
    "Test whether/how to use orphics to deal with $W^g$"
   ]
  },
  {
   "cell_type": "code",
   "execution_count": 1,
   "metadata": {},
   "outputs": [
    {
     "name": "stdout",
     "output_type": "stream",
     "text": [
      "/Users/Humna/repos/CAMB/CAMB-Jan2017/pycamb\n"
     ]
    }
   ],
   "source": [
    "%matplotlib inline\n",
    "import sys, platform, os\n",
    "from matplotlib import pyplot as plt\n",
    "import numpy as np\n",
    "\n",
    "repoDir= os.getcwd()\n",
    "os.chdir(os.path.join(repoDir, '../..' ))\n",
    "repoDir= os.getcwd()\n",
    "cambPath= repoDir+'/CAMB/CAMB-Jan2017/pycamb'\n",
    "print cambPath\n",
    "sys.path.insert(0, cambPath)\n",
    "\n",
    "import camb\n",
    "from camb import model, initialpower\n",
    "\n",
    "from orphics.theory.cosmology import LimberCosmology\n",
    "\n",
    "import healpy as hp\n",
    "import scipy\n",
    "from mpl_toolkits.mplot3d import Axes3D"
   ]
  },
  {
   "cell_type": "code",
   "execution_count": 2,
   "metadata": {},
   "outputs": [],
   "source": [
    "zmin, zmax= 0, 600.\n",
    "lmax= 1000.\n",
    "ellrange= np.arange(0, lmax)"
   ]
  },
  {
   "cell_type": "code",
   "execution_count": 3,
   "metadata": {},
   "outputs": [
    {
     "name": "stdout",
     "output_type": "stream",
     "text": [
      "Initializing CMB window..\n",
      "initializing power...\n"
     ]
    }
   ],
   "source": [
    "limber= LimberCosmology(lmax= lmax, skipCls= True)"
   ]
  },
  {
   "cell_type": "code",
   "execution_count": 4,
   "metadata": {},
   "outputs": [
    {
     "name": "stdout",
     "output_type": "stream",
     "text": [
      "Initializing galaxy window for  g  ...\n"
     ]
    }
   ],
   "source": [
    "gkey= 'g'\n",
    "limber.addStepNz(gkey, bias= None, zmin= zmin, zmax= zmax)"
   ]
  },
  {
   "cell_type": "code",
   "execution_count": 5,
   "metadata": {},
   "outputs": [],
   "source": [
    "limber.generateCls(ellrange=ellrange)"
   ]
  },
  {
   "cell_type": "code",
   "execution_count": 6,
   "metadata": {
    "scrolled": false
   },
   "outputs": [],
   "source": [
    "Cell_orp= {}\n",
    "Cell_orp['kk']=  limber.getCl('cmb','cmb')\n",
    "Cell_orp[gkey+'k']= limber.getCl('cmb',gkey)\n",
    "Cell_orp[gkey+gkey]=  limber.getCl(gkey, gkey)"
   ]
  },
  {
   "cell_type": "code",
   "execution_count": 7,
   "metadata": {
    "collapsed": true
   },
   "outputs": [],
   "source": [
    "def plot(x, y, xlabel, ylabel, sci= False):\n",
    "    plt.clf()\n",
    "    plt.plot(x, y)\n",
    "    plt.xlabel(xlabel, fontsize= 18)\n",
    "    plt.ylabel(ylabel, fontsize= 18)\n",
    "    plt.tick_params(axis='x', labelsize=14)\n",
    "    plt.tick_params(axis='y', labelsize=14)\n",
    "    #plt.xlim(0,500)\n",
    "    #plt.ylim(0,0.00002)\n",
    "    if sci: plt.ticklabel_format(style='sci', axis='y', scilimits=(0,0))\n",
    "    fig= plt.gcf()\n",
    "    #fig.set_size_inches(10.5, 7.5)\n",
    "    plt.show()"
   ]
  },
  {
   "cell_type": "code",
   "execution_count": 8,
   "metadata": {},
   "outputs": [],
   "source": [
    "zs= limber.zs"
   ]
  },
  {
   "cell_type": "code",
   "execution_count": 9,
   "metadata": {},
   "outputs": [
    {
     "data": {
      "image/png": "[encoded data removed]",
      "text/plain": [
       "<matplotlib.figure.Figure at 0x10ecf8d10>"
      ]
     },
     "metadata": {},
     "output_type": "display_data"
    },
    {
     "data": {
      "image/png": "[encoded data removed]",
      "text/plain": [
       "<matplotlib.figure.Figure at 0x10ecf8890>"
      ]
     },
     "metadata": {},
     "output_type": "display_data"
    }
   ],
   "source": [
    "W_g= limber.kernels[gkey]['W']\n",
    "W_c= limber.kernels['cmb']['W']\n",
    "\n",
    "plot(zs, W_g, 'z', '$W^g(z)$')\n",
    "plot(zs, W_c, 'z', '$W^c(z)$')"
   ]
  },
  {
   "cell_type": "markdown",
   "metadata": {},
   "source": [
    "Want flat$W^g$ for all z-bins rn.., i.e., something like:"
   ]
  },
  {
   "cell_type": "code",
   "execution_count": 10,
   "metadata": {},
   "outputs": [
    {
     "data": {
      "image/png": "[encoded data removed]",
      "text/plain": [
       "<matplotlib.figure.Figure at 0x10ecfe490>"
      ]
     },
     "metadata": {},
     "output_type": "display_data"
    }
   ],
   "source": [
    "def Wg(z): return np.ones(len(np.array(z)))\n",
    "plot(zs, Wg(zs), 'z', '$W^g(z)$')"
   ]
  },
  {
   "cell_type": "markdown",
   "metadata": {
    "collapsed": true
   },
   "source": [
    "Is this not ok? Why is LimberCosmology giving something different?"
   ]
  },
  {
   "cell_type": "code",
   "execution_count": null,
   "metadata": {
    "collapsed": true
   },
   "outputs": [],
   "source": []
  }
 ],
 "metadata": {
  "kernelspec": {
   "display_name": "Python 2",
   "language": "python",
   "name": "python2"
  },
  "language_info": {
   "codemirror_mode": {
    "name": "ipython",
    "version": 2
   },
   "file_extension": ".py",
   "mimetype": "text/x-python",
   "name": "python",
   "nbconvert_exporter": "python",
   "pygments_lexer": "ipython2",
   "version": "2.7.13"
  }
 },
 "nbformat": 4,
 "nbformat_minor": 2
}
